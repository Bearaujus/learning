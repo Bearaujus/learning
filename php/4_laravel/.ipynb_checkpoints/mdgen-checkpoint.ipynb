{
 "cells": [
  {
   "cell_type": "code",
   "execution_count": 1,
   "metadata": {},
   "outputs": [],
   "source": [
    "from blmarkdown import Learning, LearningData"
   ]
  },
  {
   "cell_type": "code",
   "execution_count": 2,
   "metadata": {},
   "outputs": [],
   "source": [
    "learning_subject = 'Laravel Framework 8.61.0'"
   ]
  },
  {
   "cell_type": "code",
   "execution_count": 3,
   "metadata": {},
   "outputs": [],
   "source": [
    "author = 'Bear Au Jus - ジュースとくま'"
   ]
  },
  {
   "cell_type": "code",
   "execution_count": 4,
   "metadata": {},
   "outputs": [],
   "source": [
    "footer_data = {'Linkedin' : '[https://www.linkedin.com/in/bearaujus/](https://www.linkedin.com/in/bearaujus/)',\n",
    "              'Main Github Page' : '[https://github.com/bearaujus/](https://github.com/bearaujus/)'}"
   ]
  },
  {
   "cell_type": "code",
   "execution_count": 5,
   "metadata": {},
   "outputs": [],
   "source": [
    "learning = Learning(learning_subject, author, footer_data)"
   ]
  },
  {
   "cell_type": "code",
   "execution_count": 6,
   "metadata": {},
   "outputs": [],
   "source": [
    "data = LearningData('Laravel Structure')\n",
    "data.add('Base Structure')\n",
    "data.add('Routes Structure')\n",
    "data.add('View Structure')\n",
    "learning.add(data)"
   ]
  },
  {
   "cell_type": "code",
   "execution_count": 7,
   "metadata": {},
   "outputs": [],
   "source": [
    "data = LearningData('Blade Templating Engine')\n",
    "data.add('Working with Blade')\n",
    "data.add('Layouting System')\n",
    "learning.add(data)"
   ]
  },
  {
   "cell_type": "code",
   "execution_count": 8,
   "metadata": {},
   "outputs": [],
   "source": [
    "data = LearningData('Model, Collection & Controller')\n",
    "data.add('Creating Model Using Artisan Command')\n",
    "data.add('Working with Laravel Collection')\n",
    "data.add('Creating Controller Using Artisan Command')\n",
    "learning.add(data)"
   ]
  },
  {
   "cell_type": "code",
   "execution_count": 9,
   "metadata": {},
   "outputs": [],
   "source": [
    "data = LearningData('Database, Migration & Eloquent')\n",
    "data.add('Environment Variables')\n",
    "data.add('Adjusting MYSQL for Laravel')\n",
    "data.add('Migration Using Artisan Command')\n",
    "data.add('Eloquent ORM')\n",
    "learning.add(data)"
   ]
  },
  {
   "cell_type": "code",
   "execution_count": 10,
   "metadata": {},
   "outputs": [],
   "source": [
    "data = LearningData('Route')\n",
    "data.add('Route Model Binding')\n",
    "data.add('Custom Route')\n",
    "data.add('Routing to Controller')\n",
    "learning.add(data)"
   ]
  },
  {
   "cell_type": "code",
   "execution_count": 11,
   "metadata": {},
   "outputs": [],
   "source": [
    "data = LearningData('Eloquent Relationship')\n",
    "data.add('Understanding of Making one-to-one Eloquent Relationship')\n",
    "data.add('Understanding of Making one-to-many Eloquent Relationship')\n",
    "learning.add(data)"
   ]
  },
  {
   "cell_type": "code",
   "execution_count": 12,
   "metadata": {},
   "outputs": [],
   "source": [
    "data = LearningData('Middleware')\n",
    "data.add('Understanding Authorization in Laravel')\n",
    "data.add('Implementing Middleware Auth')\n",
    "data.add('Login Auth')\n",
    "learning.add(data)"
   ]
  },
  {
   "cell_type": "code",
   "execution_count": 13,
   "metadata": {},
   "outputs": [],
   "source": [
    "data = LearningData('Validation')\n",
    "data.add('Custom Validation Messages')\n",
    "data.add('Showing Validation Messages')\n",
    "learning.add(data)"
   ]
  },
  {
   "cell_type": "code",
   "execution_count": 14,
   "metadata": {},
   "outputs": [],
   "source": [
    "data = LearningData('Localization')\n",
    "data.add('Create Custome Localization')\n",
    "data.add('Implementing Localization')\n",
    "learning.add(data)"
   ]
  },
  {
   "cell_type": "code",
   "execution_count": 15,
   "metadata": {},
   "outputs": [],
   "source": [
    "data = LearningData('Observer')\n",
    "data.add('Undestanding Observer Usage')\n",
    "data.add('Implementing Observer')\n",
    "learning.add(data)"
   ]
  },
  {
   "cell_type": "code",
   "execution_count": 16,
   "metadata": {},
   "outputs": [],
   "source": [
    "data = LearningData('Deeper in Laravel Model')\n",
    "data.add('Creating Accessor Function')\n",
    "data.add('Creating Mutator Function')\n",
    "data.add('Creating Cast Function')\n",
    "learning.add(data)"
   ]
  },
  {
   "cell_type": "code",
   "execution_count": 17,
   "metadata": {
    "scrolled": false
   },
   "outputs": [],
   "source": [
    "learning.preview()"
   ]
  },
  {
   "cell_type": "code",
   "execution_count": 18,
   "metadata": {
    "scrolled": false
   },
   "outputs": [
    {
     "name": "stdout",
     "output_type": "stream",
     "text": [
      "# Learning : Laravel Framework 8.61.0\n",
      "\n",
      "### Learning 01 - Laravel Structure\n",
      "+ Base Structure\n",
      "+ Routes Structure\n",
      "+ View Structure\n",
      "\n",
      "---\n",
      "### Learning 02 - Blade Templating Engine\n",
      "+ Working with Blade\n",
      "+ Layouting System\n",
      "\n",
      "---\n",
      "### Learning 03 - Model, Collection & Controller\n",
      "+ Creating Model Using Artisan Command\n",
      "+ Working with Laravel Collection\n",
      "+ Creating Controller Using Artisan Command\n",
      "\n",
      "---\n",
      "### Learning 04 - Database, Migration & Eloquent\n",
      "+ Environment Variables\n",
      "+ Adjusting MYSQL for Laravel\n",
      "+ Migration Using Artisan Command\n",
      "+ Eloquent ORM\n",
      "\n",
      "---\n",
      "### Learning 05 - Route\n",
      "+ Route Model Binding\n",
      "+ Custom Route\n",
      "+ Routing to Controller\n",
      "\n",
      "---\n",
      "### Learning 06 - Eloquent Relationship\n",
      "+ Understanding of Making one-to-one Eloquent Relationship\n",
      "+ Understanding of Making one-to-many Eloquent Relationship\n",
      "\n",
      "---\n",
      "### Learning 07 - Middleware\n",
      "+ Understanding Authorization in Laravel\n",
      "+ Implementing Middleware Auth\n",
      "+ Login Auth\n",
      "\n",
      "---\n",
      "### Learning 08 - Validation\n",
      "+ Custom Validation Messages\n",
      "+ Showing Validation Messages\n",
      "\n",
      "---\n",
      "### Learning 09 - Localization\n",
      "+ Create Custome Localization\n",
      "+ Implementing Localization\n",
      "\n",
      "---\n",
      "### Learning 10 - Observer\n",
      "+ Undestanding Observer Usage\n",
      "+ Implementing Observer\n",
      "\n",
      "---\n",
      "### Learning 11 - Deeper in Laravel Model\n",
      "+ Creating Accessor Function\n",
      "+ Creating Mutator Function\n",
      "+ Creating Cast Function\n",
      "\n",
      "---\n",
      "# Credit\n",
      "+ Linkedin : [https://www.linkedin.com/in/bearaujus/](https://www.linkedin.com/in/bearaujus/)\n",
      "+ Main Github Page : [https://github.com/bearaujus/](https://github.com/bearaujus/)\n",
      "\n",
      "**Bear Au Jus - ジュースとくま** @2021 | Generated by [blmarkdown](https://github.com/bearaujus/blmarkdown) v2.3\n"
     ]
    }
   ],
   "source": [
    "learning.markdown()"
   ]
  },
  {
   "cell_type": "code",
   "execution_count": null,
   "metadata": {},
   "outputs": [],
   "source": []
  }
 ],
 "metadata": {
  "kernelspec": {
   "display_name": "Python 3",
   "language": "python",
   "name": "python3"
  },
  "language_info": {
   "codemirror_mode": {
    "name": "ipython",
    "version": 3
   },
   "file_extension": ".py",
   "mimetype": "text/x-python",
   "name": "python",
   "nbconvert_exporter": "python",
   "pygments_lexer": "ipython3",
   "version": "3.8.5"
  },
  "varInspector": {
   "cols": {
    "lenName": 16,
    "lenType": 16,
    "lenVar": 40
   },
   "kernels_config": {
    "python": {
     "delete_cmd_postfix": "",
     "delete_cmd_prefix": "del ",
     "library": "var_list.py",
     "varRefreshCmd": "print(var_dic_list())"
    },
    "r": {
     "delete_cmd_postfix": ") ",
     "delete_cmd_prefix": "rm(",
     "library": "var_list.r",
     "varRefreshCmd": "cat(var_dic_list()) "
    }
   },
   "position": {
    "height": "144px",
    "left": "1222px",
    "right": "20px",
    "top": "169px",
    "width": "350px"
   },
   "types_to_exclude": [
    "module",
    "function",
    "builtin_function_or_method",
    "instance",
    "_Feature"
   ],
   "window_display": false
  }
 },
 "nbformat": 4,
 "nbformat_minor": 4
}
