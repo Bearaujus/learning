{
 "cells": [
  {
   "cell_type": "code",
   "execution_count": 1,
   "metadata": {},
   "outputs": [],
   "source": [
    "from blmarkdown import Learning, LearningData"
   ]
  },
  {
   "cell_type": "code",
   "execution_count": 2,
   "metadata": {},
   "outputs": [],
   "source": [
    "learning_subject = 'Object-Oriented Programming PHP (OOP PHP)'"
   ]
  },
  {
   "cell_type": "code",
   "execution_count": 3,
   "metadata": {},
   "outputs": [],
   "source": [
    "author = 'Bear Au Jus - ジュースとくま'"
   ]
  },
  {
   "cell_type": "code",
   "execution_count": 4,
   "metadata": {},
   "outputs": [],
   "source": [
    "footer_data = {'Linkedin' : '[https://www.linkedin.com/in/bearaujus/](https://www.linkedin.com/in/bearaujus/)',\n",
    "              'Main Github Page' : '[https://github.com/bearaujus/](https://github.com/bearaujus/)'}"
   ]
  },
  {
   "cell_type": "code",
   "execution_count": 5,
   "metadata": {},
   "outputs": [],
   "source": [
    "learning = Learning(learning_subject, author, footer_data)"
   ]
  },
  {
   "cell_type": "code",
   "execution_count": 6,
   "metadata": {},
   "outputs": [],
   "source": [
    "data = LearningData('PHP Syntax', 'https://github.com/bearaujus/learning/tree/main/php/1_basic_php/l01')\n",
    "data.add('Standard Output')\n",
    "data.add('Variable')\n",
    "data.add('Operator', ['Concat', 'Assigment', 'Comparison', 'Identity', 'Logic'])\n",
    "\n",
    "learning.add(data)"
   ]
  },
  {
   "cell_type": "code",
   "execution_count": 7,
   "metadata": {},
   "outputs": [],
   "source": [
    "data = LearningData('Control Structure', 'https://github.com/bearaujus/learning/tree/main/php/1_basic_php/l02')\n",
    "data.add('Loop', ['For', 'While', 'Do While', 'For Each'])\n",
    "data.add('Branching', ['If', 'Else If', 'Else'])\n",
    "\n",
    "learning.add(data)"
   ]
  },
  {
   "cell_type": "code",
   "execution_count": 8,
   "metadata": {},
   "outputs": [],
   "source": [
    "data = LearningData('Function', 'https://github.com/bearaujus/learning/tree/main/php/1_basic_php/l03')\n",
    "data.add('Common Root Function', ['Date', 'Mktime', 'Strtotime'])\n",
    "data.add('Function')\n",
    "\n",
    "learning.add(data)"
   ]
  },
  {
   "cell_type": "code",
   "execution_count": 9,
   "metadata": {},
   "outputs": [],
   "source": [
    "data = LearningData('Array', 'https://github.com/bearaujus/learning/tree/main/php/1_basic_php/l04')\n",
    "data.add('Array')\n",
    "data.add('Printing Array in HTML')\n",
    "\n",
    "learning.add(data)"
   ]
  },
  {
   "cell_type": "code",
   "execution_count": 10,
   "metadata": {},
   "outputs": [],
   "source": [
    "data = LearningData('Associative Array', 'https://github.com/bearaujus/learning/tree/main/php/1_basic_php/l05')\n",
    "data.add('Associative Array')\n",
    "data.add('Printing Associative Array in HTML')\n",
    "\n",
    "learning.add(data)"
   ]
  },
  {
   "cell_type": "code",
   "execution_count": 11,
   "metadata": {},
   "outputs": [],
   "source": [
    "data = LearningData('GET & POST', 'https://github.com/bearaujus/learning/tree/main/php/1_basic_php/l06')\n",
    "data.add('Superglobal Variables')\n",
    "data.add('How to Implement $_GET')\n",
    "data.add('How to Implement $_POST')\n",
    "\n",
    "learning.add(data)"
   ]
  },
  {
   "cell_type": "code",
   "execution_count": 12,
   "metadata": {},
   "outputs": [],
   "source": [
    "data = LearningData('PHP MYSQL Database - Read Data', 'https://github.com/bearaujus/learning/tree/main/php/1_basic_php/l07')\n",
    "data.add('Read Data From Database')\n",
    "data.add('Making a Database Connection')\n",
    "data.add('MYSQLI in PHP')\n",
    "data.add('Analyzing Query Error')\n",
    "data.add(\"Using PHP Function 'require'\")\n",
    "\n",
    "learning.add(data)"
   ]
  },
  {
   "cell_type": "code",
   "execution_count": 13,
   "metadata": {},
   "outputs": [],
   "source": [
    "data = LearningData('PHP MYSQL Database - Insert & Delete Data', 'https://github.com/bearaujus/learning/tree/main/php/1_basic_php/l08')\n",
    "data.add('Insert Data To Database')\n",
    "data.add('Delete Data From Database')\n",
    "\n",
    "learning.add(data)"
   ]
  },
  {
   "cell_type": "code",
   "execution_count": 14,
   "metadata": {},
   "outputs": [],
   "source": [
    "data = LearningData('PHP MYSQL Database - Update Data', 'https://github.com/bearaujus/learning/tree/main/php/1_basic_php/l09')\n",
    "data.add('Update Data in Database')\n",
    "\n",
    "learning.add(data)"
   ]
  },
  {
   "cell_type": "code",
   "execution_count": 15,
   "metadata": {},
   "outputs": [],
   "source": [
    "data = LearningData('PHP MYSQL Database - Read (Search)', 'https://github.com/bearaujus/learning/tree/main/php/1_basic_php/l10')\n",
    "data.add('Search Data From Database')\n",
    "\n",
    "learning.add(data)"
   ]
  },
  {
   "cell_type": "code",
   "execution_count": 16,
   "metadata": {},
   "outputs": [],
   "source": [
    "data = LearningData('Upload File', 'https://github.com/bearaujus/learning/tree/main/php/1_basic_php/l11')\n",
    "data.add('Uploading File')\n",
    "data.add('Mapping Uploaded File')\n",
    "data.add('Checking Uploaded Extension File')\n",
    "data.add('Limiting File Size Uploaded File')\n",
    "\n",
    "learning.add(data)"
   ]
  },
  {
   "cell_type": "code",
   "execution_count": 17,
   "metadata": {},
   "outputs": [],
   "source": [
    "learning.compile()"
   ]
  },
  {
   "cell_type": "code",
   "execution_count": 18,
   "metadata": {},
   "outputs": [
    {
     "name": "stdout",
     "output_type": "stream",
     "text": [
      "# Learning : Object-Oriented Programming PHP (OOP PHP)\n",
      "\n",
      "### Learning 01 - PHP Syntax\n",
      "> Shortcut : [Link](https://github.com/bearaujus/learning/tree/main/php/1_basic_php/l01)\n",
      "\n",
      "+ Standard Output\n",
      "+ Variable\n",
      "+ Operator\n",
      "    - Concat\n",
      "    - Assigment\n",
      "    - Comparison\n",
      "    - Identity\n",
      "    - Logic\n",
      "\n",
      "---\n",
      "### Learning 02 - Control Structure\n",
      "> Shortcut : [Link](https://github.com/bearaujus/learning/tree/main/php/1_basic_php/l02)\n",
      "\n",
      "+ Loop\n",
      "    - For\n",
      "    - While\n",
      "    - Do While\n",
      "    - For Each\n",
      "+ Branching\n",
      "    - If\n",
      "    - Else If\n",
      "    - Else\n",
      "\n",
      "---\n",
      "### Learning 03 - Function\n",
      "> Shortcut : [Link](https://github.com/bearaujus/learning/tree/main/php/1_basic_php/l03)\n",
      "\n",
      "+ Common Root Function\n",
      "    - Date\n",
      "    - Mktime\n",
      "    - Strtotime\n",
      "+ Function\n",
      "\n",
      "---\n",
      "### Learning 04 - Array\n",
      "> Shortcut : [Link](https://github.com/bearaujus/learning/tree/main/php/1_basic_php/l04)\n",
      "\n",
      "+ Array\n",
      "+ Printing Array in HTML\n",
      "\n",
      "---\n",
      "### Learning 05 - Associative Array\n",
      "> Shortcut : [Link](https://github.com/bearaujus/learning/tree/main/php/1_basic_php/l05)\n",
      "\n",
      "+ Associative Array\n",
      "+ Printing Associative Array in HTML\n",
      "\n",
      "---\n",
      "### Learning 06 - GET & POST\n",
      "> Shortcut : [Link](https://github.com/bearaujus/learning/tree/main/php/1_basic_php/l06)\n",
      "\n",
      "+ Superglobal Variables\n",
      "+ How to Implement $_GET\n",
      "+ How to Implement $_POST\n",
      "\n",
      "---\n",
      "### Learning 07 - PHP MYSQL Database - Read Data\n",
      "> Shortcut : [Link](https://github.com/bearaujus/learning/tree/main/php/1_basic_php/l07)\n",
      "\n",
      "+ Read Data From Database\n",
      "+ Making a Database Connection\n",
      "+ MYSQLI in PHP\n",
      "+ Analyzing Query Error\n",
      "+ Using PHP Function 'require'\n",
      "\n",
      "---\n",
      "### Learning 08 - PHP MYSQL Database - Insert & Delete Data\n",
      "> Shortcut : [Link](https://github.com/bearaujus/learning/tree/main/php/1_basic_php/l08)\n",
      "\n",
      "+ Insert Data To Database\n",
      "+ Delete Data From Database\n",
      "\n",
      "---\n",
      "### Learning 09 - PHP MYSQL Database - Update Data\n",
      "> Shortcut : [Link](https://github.com/bearaujus/learning/tree/main/php/1_basic_php/l09)\n",
      "\n",
      "+ Update Data in Database\n",
      "\n",
      "---\n",
      "### Learning 10 - PHP MYSQL Database - Read (Search)\n",
      "> Shortcut : [Link](https://github.com/bearaujus/learning/tree/main/php/1_basic_php/l10)\n",
      "\n",
      "+ Search Data From Database\n",
      "\n",
      "---\n",
      "### Learning 11 - Upload File\n",
      "> Shortcut : [Link](https://github.com/bearaujus/learning/tree/main/php/1_basic_php/l11)\n",
      "\n",
      "+ Uploading File\n",
      "+ Mapping Uploaded File\n",
      "+ Checking Uploaded Extension File\n",
      "+ Limiting File Size Uploaded File\n",
      "\n",
      "---\n",
      "# Credit\n",
      "+ Linkedin : [https://www.linkedin.com/in/bearaujus/](https://www.linkedin.com/in/bearaujus/)\n",
      "+ Main Github Page : [https://github.com/bearaujus/](https://github.com/bearaujus/)\n",
      "\n",
      "**Bear Au Jus - ジュースとくま** @2021 | Generated by [blmarkdown](https://github.com/bearaujus/blmarkdown) v1.0\n"
     ]
    }
   ],
   "source": [
    "print(learning.get_markdown())"
   ]
  }
 ],
 "metadata": {
  "kernelspec": {
   "display_name": "Python 3",
   "language": "python",
   "name": "python3"
  },
  "language_info": {
   "codemirror_mode": {
    "name": "ipython",
    "version": 3
   },
   "file_extension": ".py",
   "mimetype": "text/x-python",
   "name": "python",
   "nbconvert_exporter": "python",
   "pygments_lexer": "ipython3",
   "version": "3.8.5"
  },
  "varInspector": {
   "cols": {
    "lenName": 16,
    "lenType": 16,
    "lenVar": 40
   },
   "kernels_config": {
    "python": {
     "delete_cmd_postfix": "",
     "delete_cmd_prefix": "del ",
     "library": "var_list.py",
     "varRefreshCmd": "print(var_dic_list())"
    },
    "r": {
     "delete_cmd_postfix": ") ",
     "delete_cmd_prefix": "rm(",
     "library": "var_list.r",
     "varRefreshCmd": "cat(var_dic_list()) "
    }
   },
   "position": {
    "height": "144px",
    "left": "1222px",
    "right": "20px",
    "top": "169px",
    "width": "350px"
   },
   "types_to_exclude": [
    "module",
    "function",
    "builtin_function_or_method",
    "instance",
    "_Feature"
   ],
   "window_display": false
  }
 },
 "nbformat": 4,
 "nbformat_minor": 4
}
