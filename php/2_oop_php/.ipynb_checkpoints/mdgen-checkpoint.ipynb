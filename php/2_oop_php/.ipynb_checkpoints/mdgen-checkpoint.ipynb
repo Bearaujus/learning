{
 "cells": [
  {
   "cell_type": "code",
   "execution_count": 1,
   "metadata": {},
   "outputs": [],
   "source": [
    "from blmarkdown import Learning, LearningData"
   ]
  },
  {
   "cell_type": "code",
   "execution_count": 2,
   "metadata": {},
   "outputs": [],
   "source": [
    "learning_subject = 'Object-Oriented Programming PHP (OOP PHP)'"
   ]
  },
  {
   "cell_type": "code",
   "execution_count": 3,
   "metadata": {},
   "outputs": [],
   "source": [
    "author = 'Bear Au Jus - ジュースとくま'"
   ]
  },
  {
   "cell_type": "code",
   "execution_count": 4,
   "metadata": {},
   "outputs": [],
   "source": [
    "footer_data = {'Linkedin' : '[https://www.linkedin.com/in/bearaujus/](https://www.linkedin.com/in/bearaujus/)',\n",
    "              'Main Github Page' : '[https://github.com/bearaujus/](https://github.com/bearaujus/)'}"
   ]
  },
  {
   "cell_type": "code",
   "execution_count": 5,
   "metadata": {},
   "outputs": [],
   "source": [
    "learning = Learning(learning_subject, author, footer_data)"
   ]
  },
  {
   "cell_type": "code",
   "execution_count": 6,
   "metadata": {},
   "outputs": [],
   "source": [
    "data = LearningData('Class & Object', 'https://github.com/bearaujus/learning/tree/main/php/2_oop_php/l01')\n",
    "data.add('Initiating a Class')\n",
    "data.add('Instanstiation of Class Object')\n",
    "\n",
    "learning.add(data)"
   ]
  },
  {
   "cell_type": "code",
   "execution_count": 7,
   "metadata": {},
   "outputs": [],
   "source": [
    "data = LearningData('Property & Method', 'https://github.com/bearaujus/learning/tree/main/php/2_oop_php/l02')\n",
    "data.add('Class Property')\n",
    "data.add('Class Method')\n",
    "\n",
    "learning.add(data)"
   ]
  },
  {
   "cell_type": "code",
   "execution_count": 8,
   "metadata": {},
   "outputs": [],
   "source": [
    "data = LearningData('Constructor', 'https://github.com/bearaujus/learning/tree/main/php/2_oop_php/l03')\n",
    "data.add('Class Constructor')\n",
    "\n",
    "learning.add(data)"
   ]
  },
  {
   "cell_type": "code",
   "execution_count": 9,
   "metadata": {},
   "outputs": [],
   "source": [
    "data = LearningData('Object Type', 'https://github.com/bearaujus/learning/tree/main/php/2_oop_php/l04')\n",
    "data.add('Using Specify Object Type')\n",
    "\n",
    "learning.add(data)"
   ]
  },
  {
   "cell_type": "code",
   "execution_count": 10,
   "metadata": {},
   "outputs": [],
   "source": [
    "data = LearningData('Inheritance', 'https://github.com/bearaujus/learning/tree/main/php/2_oop_php/l05')\n",
    "data.add('Class as Parent')\n",
    "data.add('Class as Child')\n",
    "data.add('Implementing Extends in a Class')\n",
    "data.add('Instanstiation of Child Class')\n",
    "\n",
    "learning.add(data)"
   ]
  },
  {
   "cell_type": "code",
   "execution_count": 11,
   "metadata": {},
   "outputs": [],
   "source": [
    "data = LearningData('Overriding', 'https://github.com/bearaujus/learning/tree/main/php/2_oop_php/l06')\n",
    "data.add('Overriding Constructor')\n",
    "data.add('Calling Function From Child Class')\n",
    "data.add('Calling Function From Parrent Class')\n",
    "\n",
    "learning.add(data)"
   ]
  },
  {
   "cell_type": "code",
   "execution_count": 12,
   "metadata": {},
   "outputs": [],
   "source": [
    "data = LearningData('Visibility', 'https://github.com/bearaujus/learning/tree/main/php/2_oop_php/l07')\n",
    "data.add('Declaring Public Variable')\n",
    "data.add('Declaring Private Variable')\n",
    "data.add('Accessing Public Variable')\n",
    "data.add('Accessing Private Variable')\n",
    "\n",
    "learning.add(data)"
   ]
  },
  {
   "cell_type": "code",
   "execution_count": 13,
   "metadata": {},
   "outputs": [],
   "source": [
    "data = LearningData('Getter & Setter', 'https://github.com/bearaujus/learning/tree/main/php/2_oop_php/l08')\n",
    "data.add('Generating Variable Getter')\n",
    "data.add('Generating Variable Setter')\n",
    "data.add('Filtering Setter Parameter')\n",
    "\n",
    "learning.add(data)"
   ]
  },
  {
   "cell_type": "code",
   "execution_count": 14,
   "metadata": {},
   "outputs": [],
   "source": [
    "data = LearningData('Static Keyword', 'https://github.com/bearaujus/learning/tree/main/php/2_oop_php/l09')\n",
    "data.add('Declaring Static Variable')\n",
    "data.add('Declaring Static Function')\n",
    "data.add('Using Static Variable')\n",
    "data.add('Using Static Function')\n",
    "\n",
    "learning.add(data)"
   ]
  },
  {
   "cell_type": "code",
   "execution_count": 15,
   "metadata": {},
   "outputs": [],
   "source": [
    "data = LearningData('Constant', 'https://github.com/bearaujus/learning/tree/main/php/2_oop_php/l10')\n",
    "data.add('Declaring Constant Via Define')\n",
    "data.add('Declaring Constant Via Constant')\n",
    "data.add('Using Constant')\n",
    "\n",
    "learning.add(data)"
   ]
  },
  {
   "cell_type": "code",
   "execution_count": 16,
   "metadata": {},
   "outputs": [],
   "source": [
    "data = LearningData('Abstract Class', 'https://github.com/bearaujus/learning/tree/main/php/2_oop_php/l11')\n",
    "data.add('Creating Abstract Method')\n",
    "data.add('Extends an Abstract Method')\n",
    "data.add('Implementing Parent Abstract Method')\n",
    "\n",
    "learning.add(data)"
   ]
  },
  {
   "cell_type": "code",
   "execution_count": 17,
   "metadata": {},
   "outputs": [],
   "source": [
    "data = LearningData('Interface', 'https://github.com/bearaujus/learning/tree/main/php/2_oop_php/l12')\n",
    "data.add('Creating Interface')\n",
    "data.add('Implementing Interface')\n",
    "data.add('Implementing Interface Methods')\n",
    "\n",
    "learning.add(data)"
   ]
  },
  {
   "cell_type": "code",
   "execution_count": 18,
   "metadata": {},
   "outputs": [],
   "source": [
    "data = LearningData('Autoloading & Namespaces', 'https://github.com/bearaujus/learning/tree/main/php/2_oop_php/l13')\n",
    "data.add('Using Class Autoloading')\n",
    "data.add('Using Namespaces')\n",
    "data.add('Alliasing Namespace')\n",
    "\n",
    "learning.add(data)"
   ]
  },
  {
   "cell_type": "code",
   "execution_count": 19,
   "metadata": {
    "scrolled": false
   },
   "outputs": [],
   "source": [
    "learning.preview()"
   ]
  },
  {
   "cell_type": "code",
   "execution_count": 20,
   "metadata": {
    "scrolled": false
   },
   "outputs": [
    {
     "name": "stdout",
     "output_type": "stream",
     "text": [
      "# Learning : Object-Oriented Programming PHP (OOP PHP)\n",
      "\n",
      "### Learning 01 - Class & Object\n",
      "> Shortcut : [Link](https://github.com/bearaujus/learning/tree/main/php/2_oop_php/l01)\n",
      "\n",
      "+ Initiating a Class\n",
      "+ Instanstiation of Class Object\n",
      "\n",
      "---\n",
      "### Learning 02 - Property & Method\n",
      "> Shortcut : [Link](https://github.com/bearaujus/learning/tree/main/php/2_oop_php/l02)\n",
      "\n",
      "+ Class Property\n",
      "+ Class Method\n",
      "\n",
      "---\n",
      "### Learning 03 - Constructor\n",
      "> Shortcut : [Link](https://github.com/bearaujus/learning/tree/main/php/2_oop_php/l03)\n",
      "\n",
      "+ Class Constructor\n",
      "\n",
      "---\n",
      "### Learning 04 - Object Type\n",
      "> Shortcut : [Link](https://github.com/bearaujus/learning/tree/main/php/2_oop_php/l04)\n",
      "\n",
      "+ Using Specify Object Type\n",
      "\n",
      "---\n",
      "### Learning 05 - Inheritance\n",
      "> Shortcut : [Link](https://github.com/bearaujus/learning/tree/main/php/2_oop_php/l05)\n",
      "\n",
      "+ Class as Parent\n",
      "+ Class as Child\n",
      "+ Implementing Extends in a Class\n",
      "+ Instanstiation of Child Class\n",
      "\n",
      "---\n",
      "### Learning 06 - Overriding\n",
      "> Shortcut : [Link](https://github.com/bearaujus/learning/tree/main/php/2_oop_php/l06)\n",
      "\n",
      "+ Overriding Constructor\n",
      "+ Calling Function From Child Class\n",
      "+ Calling Function From Parrent Class\n",
      "\n",
      "---\n",
      "### Learning 07 - Visibility\n",
      "> Shortcut : [Link](https://github.com/bearaujus/learning/tree/main/php/2_oop_php/l07)\n",
      "\n",
      "+ Declaring Public Variable\n",
      "+ Declaring Private Variable\n",
      "+ Accessing Public Variable\n",
      "+ Accessing Private Variable\n",
      "\n",
      "---\n",
      "### Learning 08 - Getter & Setter\n",
      "> Shortcut : [Link](https://github.com/bearaujus/learning/tree/main/php/2_oop_php/l08)\n",
      "\n",
      "+ Generating Variable Getter\n",
      "+ Generating Variable Setter\n",
      "+ Filtering Setter Parameter\n",
      "\n",
      "---\n",
      "### Learning 09 - Static Keyword\n",
      "> Shortcut : [Link](https://github.com/bearaujus/learning/tree/main/php/2_oop_php/l09)\n",
      "\n",
      "+ Declaring Static Variable\n",
      "+ Declaring Static Function\n",
      "+ Using Static Variable\n",
      "+ Using Static Function\n",
      "\n",
      "---\n",
      "### Learning 10 - Constant\n",
      "> Shortcut : [Link](https://github.com/bearaujus/learning/tree/main/php/2_oop_php/l10)\n",
      "\n",
      "+ Declaring Constant Via Define\n",
      "+ Declaring Constant Via Constant\n",
      "+ Using Constant\n",
      "\n",
      "---\n",
      "### Learning 11 - Abstract Class\n",
      "> Shortcut : [Link](https://github.com/bearaujus/learning/tree/main/php/2_oop_php/l11)\n",
      "\n",
      "+ Creating Abstract Method\n",
      "+ Extends an Abstract Method\n",
      "+ Implementing Parent Abstract Method\n",
      "\n",
      "---\n",
      "### Learning 12 - Interface\n",
      "> Shortcut : [Link](https://github.com/bearaujus/learning/tree/main/php/2_oop_php/l12)\n",
      "\n",
      "+ Creating Interface\n",
      "+ Implementing Interface\n",
      "+ Implementing Interface Methods\n",
      "\n",
      "---\n",
      "### Learning 13 - Autoloading & Namespaces\n",
      "> Shortcut : [Link](https://github.com/bearaujus/learning/tree/main/php/2_oop_php/l13)\n",
      "\n",
      "+ Using Class Autoloading\n",
      "+ Using Namespaces\n",
      "+ Alliasing Namespace\n",
      "\n",
      "---\n",
      "# Credit\n",
      "+ Linkedin : [https://www.linkedin.com/in/bearaujus/](https://www.linkedin.com/in/bearaujus/)\n",
      "+ Main Github Page : [https://github.com/bearaujus/](https://github.com/bearaujus/)\n",
      "\n",
      "**Bear Au Jus - ジュースとくま** @2021 | Generated by [blmarkdown](https://github.com/bearaujus/blmarkdown) v2.1\n"
     ]
    }
   ],
   "source": [
    "learning.markdown()"
   ]
  },
  {
   "cell_type": "code",
   "execution_count": 21,
   "metadata": {},
   "outputs": [
    {
     "data": {
      "text/plain": [
       "{0: 'Class & Object',\n",
       " 1: 'Property & Method',\n",
       " 2: 'Constructor',\n",
       " 3: 'Object Type',\n",
       " 4: 'Inheritance',\n",
       " 5: 'Overriding',\n",
       " 6: 'Visibility',\n",
       " 7: 'Getter & Setter',\n",
       " 8: 'Static Keyword',\n",
       " 9: 'Constant',\n",
       " 10: 'Abstract Class',\n",
       " 11: 'Interface',\n",
       " 12: 'Autoloading & Namespaces'}"
      ]
     },
     "execution_count": 21,
     "metadata": {},
     "output_type": "execute_result"
    }
   ],
   "source": [
    "learning.index()"
   ]
  },
  {
   "cell_type": "code",
   "execution_count": 22,
   "metadata": {},
   "outputs": [
    {
     "data": {
      "text/plain": [
       "# Learning : Autoloading & Namespaces\n",
       "> Achieved Skills :\n",
       "\n",
       "+ Using Class Autoloading\n",
       "+ Using Namespaces\n",
       "+ Alliasing Namespace\n",
       "\n",
       "---\n",
       "> Generated by [blmarkdown](https://github.com/bearaujus/blmarkdown) v2.1"
      ]
     },
     "execution_count": 22,
     "metadata": {},
     "output_type": "execute_result"
    }
   ],
   "source": [
    "learning.get_child(12)"
   ]
  }
 ],
 "metadata": {
  "kernelspec": {
   "display_name": "Python 3",
   "language": "python",
   "name": "python3"
  },
  "language_info": {
   "codemirror_mode": {
    "name": "ipython",
    "version": 3
   },
   "file_extension": ".py",
   "mimetype": "text/x-python",
   "name": "python",
   "nbconvert_exporter": "python",
   "pygments_lexer": "ipython3",
   "version": "3.8.5"
  },
  "varInspector": {
   "cols": {
    "lenName": 16,
    "lenType": 16,
    "lenVar": 40
   },
   "kernels_config": {
    "python": {
     "delete_cmd_postfix": "",
     "delete_cmd_prefix": "del ",
     "library": "var_list.py",
     "varRefreshCmd": "print(var_dic_list())"
    },
    "r": {
     "delete_cmd_postfix": ") ",
     "delete_cmd_prefix": "rm(",
     "library": "var_list.r",
     "varRefreshCmd": "cat(var_dic_list()) "
    }
   },
   "position": {
    "height": "144px",
    "left": "1222px",
    "right": "20px",
    "top": "169px",
    "width": "350px"
   },
   "types_to_exclude": [
    "module",
    "function",
    "builtin_function_or_method",
    "instance",
    "_Feature"
   ],
   "window_display": false
  }
 },
 "nbformat": 4,
 "nbformat_minor": 4
}
